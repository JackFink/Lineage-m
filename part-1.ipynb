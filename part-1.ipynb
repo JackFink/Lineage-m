{
 "cells": [
  {
   "cell_type": "code",
   "execution_count": null,
   "id": "1ce313b8",
   "metadata": {
    "vscode": {
     "languageId": "plaintext"
    }
   },
   "outputs": [],
   "source": [
    "VSCODE TERMINAL 사용시 사용한 명령어\n",
    "\n",
    "    New-Item -ItemType File \"part-1.ipynb\""
   ]
  },
  {
   "cell_type": "markdown",
   "id": "f1cdfbc9",
   "metadata": {},
   "source": [
    "part1"
   ]
  }
 ],
 "metadata": {
  "language_info": {
   "name": "python"
  }
 },
 "nbformat": 4,
 "nbformat_minor": 5
}
