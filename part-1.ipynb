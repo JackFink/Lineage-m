{
 "cells": [
  {
   "cell_type": "markdown",
   "id": "f1cdfbc9",
   "metadata": {},
   "source": [
    "part1"
   ]
  }
 ],
 "metadata": {
  "language_info": {
   "name": "python"
  }
 },
 "nbformat": 4,
 "nbformat_minor": 5
}
